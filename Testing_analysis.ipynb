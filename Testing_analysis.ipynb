{
 "cells": [
  {
   "cell_type": "code",
   "execution_count": 260,
   "metadata": {},
   "outputs": [],
   "source": [
    "import numpy as np\n",
    "import pandas as pd\n",
    "import re"
   ]
  },
  {
   "cell_type": "code",
   "execution_count": 277,
   "metadata": {},
   "outputs": [
    {
     "data": {
      "text/html": [
       "<div>\n",
       "<style scoped>\n",
       "    .dataframe tbody tr th:only-of-type {\n",
       "        vertical-align: middle;\n",
       "    }\n",
       "\n",
       "    .dataframe tbody tr th {\n",
       "        vertical-align: top;\n",
       "    }\n",
       "\n",
       "    .dataframe thead th {\n",
       "        text-align: right;\n",
       "    }\n",
       "</style>\n",
       "<table border=\"1\" class=\"dataframe\">\n",
       "  <thead>\n",
       "    <tr style=\"text-align: right;\">\n",
       "      <th></th>\n",
       "      <th>Malpractice</th>\n",
       "      <th>Education</th>\n",
       "      <th>Name</th>\n",
       "      <th>Specialty</th>\n",
       "    </tr>\n",
       "  </thead>\n",
       "  <tbody>\n",
       "    <tr>\n",
       "      <th>0</th>\n",
       "      <td>None reported</td>\n",
       "      <td>NY COLLEGE OF OSTEOPATHIC MEDICINE, INSTITUTE ...</td>\n",
       "      <td>ABBOUD, AIMAN</td>\n",
       "      <td>Obstetrics and Gynecology</td>\n",
       "    </tr>\n",
       "    <tr>\n",
       "      <th>1</th>\n",
       "      <td>None reported</td>\n",
       "      <td>AIN SHAMS UNIV, FAC OF MED, CAIRO, EGYPT,\\n1995</td>\n",
       "      <td>ABDELMALEK, EHAB</td>\n",
       "      <td>Obstetrics and Gynecology</td>\n",
       "    </tr>\n",
       "    <tr>\n",
       "      <th>2</th>\n",
       "      <td>None reported</td>\n",
       "      <td>TEL AVIV UNIVERSITY, SACKLER SCHOOL OF MEDICIN...</td>\n",
       "      <td>ABULAFIA, OVADIA</td>\n",
       "      <td>Obstetrics and Gynecology/Gynecologic Oncology</td>\n",
       "    </tr>\n",
       "    <tr>\n",
       "      <th>3</th>\n",
       "      <td>Malpractice\\nLast Updated 03-13-2017\\nTO TOP\\n...</td>\n",
       "      <td>SUNY, DWNSTATE M C COLL MED, BROOKLYN NY,\\n1988</td>\n",
       "      <td>AHMADI, RAMIN</td>\n",
       "      <td>Obstetrics and Gynecology</td>\n",
       "    </tr>\n",
       "    <tr>\n",
       "      <th>4</th>\n",
       "      <td>None reported</td>\n",
       "      <td>DHAKA MEDICAL COLLEGE, DHAKA UNIVERSITY, BANGL...</td>\n",
       "      <td>AHMED, KAMAL</td>\n",
       "      <td>Obstetrics and Gynecology/Pelvic and Reconstru...</td>\n",
       "    </tr>\n",
       "  </tbody>\n",
       "</table>\n",
       "</div>"
      ],
      "text/plain": [
       "                                         Malpractice  \\\n",
       "0                                      None reported   \n",
       "1                                      None reported   \n",
       "2                                      None reported   \n",
       "3  Malpractice\\nLast Updated 03-13-2017\\nTO TOP\\n...   \n",
       "4                                      None reported   \n",
       "\n",
       "                                           Education              Name  \\\n",
       "0  NY COLLEGE OF OSTEOPATHIC MEDICINE, INSTITUTE ...     ABBOUD, AIMAN   \n",
       "1    AIN SHAMS UNIV, FAC OF MED, CAIRO, EGYPT,\\n1995  ABDELMALEK, EHAB   \n",
       "2  TEL AVIV UNIVERSITY, SACKLER SCHOOL OF MEDICIN...  ABULAFIA, OVADIA   \n",
       "3    SUNY, DWNSTATE M C COLL MED, BROOKLYN NY,\\n1988     AHMADI, RAMIN   \n",
       "4  DHAKA MEDICAL COLLEGE, DHAKA UNIVERSITY, BANGL...      AHMED, KAMAL   \n",
       "\n",
       "                                           Specialty  \n",
       "0                          Obstetrics and Gynecology  \n",
       "1                          Obstetrics and Gynecology  \n",
       "2     Obstetrics and Gynecology/Gynecologic Oncology  \n",
       "3                          Obstetrics and Gynecology  \n",
       "4  Obstetrics and Gynecology/Pelvic and Reconstru...  "
      ]
     },
     "execution_count": 277,
     "metadata": {},
     "output_type": "execute_result"
    }
   ],
   "source": [
    "df=pd.read_csv(\"GynoBK.csv\",header=None)\n",
    "df.columns=[\"Malpractice\",\"Education\",\"Name\",\"Specialty\"]\n",
    "df.head()"
   ]
  },
  {
   "cell_type": "code",
   "execution_count": 278,
   "metadata": {},
   "outputs": [],
   "source": [
    "def split_out_year(ed):\n",
    "    s=re.search(',\\n',ed).span()\n",
    "    school=ed[0:s[0]]\n",
    "    year= ed[s[1]:]\n",
    "    return year\n",
    "def split_out_school(ed):\n",
    "    s=re.search(',\\n',ed).span()\n",
    "    return ed[0:s[0]]\n",
    "df['School']=list(map(split_out_school,df.Education))\n",
    "df['Year']=list(map(split_out_year,df.Education))\n",
    "df=df.drop(\"Education\",axis=1)\n",
    "# df.head()"
   ]
  },
  {
   "cell_type": "code",
   "execution_count": 279,
   "metadata": {},
   "outputs": [],
   "source": [
    "us_states=pd.read_csv(\"States.csv\")\n",
    "us_states=us_states[us_states.x!='US']\n",
    "us_states=us_states['x']"
   ]
  },
  {
   "cell_type": "code",
   "execution_count": 280,
   "metadata": {
    "scrolled": true
   },
   "outputs": [
    {
     "data": {
      "text/plain": [
       "'NY'"
      ]
     },
     "execution_count": 280,
     "metadata": {},
     "output_type": "execute_result"
    }
   ],
   "source": [
    "df['State'] = df['School'].str.extract('( [A-Z]{2}$)')\n",
    "df.State=df.State.str.strip()\n",
    "df.State[0]"
   ]
  },
  {
   "cell_type": "code",
   "execution_count": 298,
   "metadata": {},
   "outputs": [],
   "source": [
    "# a=\" Cairo, Egypt\"\n",
    "# re.search(', [A-Z]{1}[a-z]+$',df.School[1]).group()[2:]\n",
    "# df.School[1][]"
   ]
  },
  {
   "cell_type": "code",
   "execution_count": null,
   "metadata": {},
   "outputs": [],
   "source": []
  },
  {
   "cell_type": "code",
   "execution_count": 287,
   "metadata": {},
   "outputs": [
    {
     "data": {
      "text/plain": [
       "' CAIRO, EGYPT'"
      ]
     },
     "execution_count": 287,
     "metadata": {},
     "output_type": "execute_result"
    }
   ],
   "source": [
    "df.School[1][27:]"
   ]
  },
  {
   "cell_type": "code",
   "execution_count": 299,
   "metadata": {},
   "outputs": [],
   "source": [
    "ind=0\n",
    "for st in df.State:  \n",
    "#     print(st)\n",
    "#     print(ind)\n",
    "    if st in us_states.values:\n",
    "        df['Country'][ind]='USA'\n",
    "    else:\n",
    "        try:\n",
    "#             print(df.School[ind])\n",
    "            country=re.search(', [A-Z]+$',df.School[ind]).group() #{1}[a-z]\n",
    "            df['Country'][ind]=country[2:]#df['School'].str.extract(', [A-Z]{1}[a-z]+$')\n",
    "        except:\n",
    "            df['Country'][ind]=''\n",
    "            continue\n",
    "    ind+=1\n",
    "# df[['School','State','Country']]"
   ]
  },
  {
   "cell_type": "code",
   "execution_count": 317,
   "metadata": {},
   "outputs": [
    {
     "data": {
      "text/plain": [
       "\"Number of payments: 3\\nPayment Details\\nDate\\nZip Code or County of Event\\nSignificance of Payment\\nHigh/Low\\nAgreement\\n  High   |   Low\\n01-11-2017 11201 Average                  \\n03-16-2015 Kings County, NY Average                  \\n09-07-2012 11209 Average                  \\n\\nThe doctor's malpractice history\""
      ]
     },
     "execution_count": 317,
     "metadata": {},
     "output_type": "execute_result"
    }
   ],
   "source": [
    "mal=df[df.Malpractice!='None reported']\n",
    "mal.Malpractice[3]\n",
    "\n",
    "start,_ =re.search('Number of payments:',mal.Malpractice[3]).span()\n",
    "_,end=re.search(\"\\n\\nThe doctor's malpractice history\",mal.Malpractice[3]).span()\n",
    "mal.Malpractice[3][start:end]"
   ]
  },
  {
   "cell_type": "code",
   "execution_count": null,
   "metadata": {},
   "outputs": [],
   "source": []
  },
  {
   "cell_type": "code",
   "execution_count": null,
   "metadata": {},
   "outputs": [],
   "source": []
  }
 ],
 "metadata": {
  "kernelspec": {
   "display_name": "Python 3",
   "language": "python",
   "name": "python3"
  },
  "language_info": {
   "codemirror_mode": {
    "name": "ipython",
    "version": 3
   },
   "file_extension": ".py",
   "mimetype": "text/x-python",
   "name": "python",
   "nbconvert_exporter": "python",
   "pygments_lexer": "ipython3",
   "version": "3.6.5"
  }
 },
 "nbformat": 4,
 "nbformat_minor": 2
}
